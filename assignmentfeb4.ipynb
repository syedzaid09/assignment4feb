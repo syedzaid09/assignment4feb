{
 "cells": [
  {
   "cell_type": "markdown",
   "id": "8bb636fa-7a32-4452-b41b-96220140b43b",
   "metadata": {},
   "source": [
    "Qus1.explain Class and Object with respest to Object-Oriented Programming.Give a suitable example."
   ]
  },
  {
   "cell_type": "markdown",
   "id": "71b5e45f-233e-45d8-9af7-3be2cb2a9f2f",
   "metadata": {},
   "source": [
    "Class: now to create/represent objects we first have to write all their attributes and behaviours under a single group.this group is called a class.\n",
    "thus a class is an arhitecture/blueprint of the object. it is a proper description of the attributes and methods of the object.\n",
    "for example-the design of a car of same type is a class.we can create many objects from a class.just like we can make many cars of the same type from a design of car. \n",
    "\n",
    "Object:an object is a something that possess some characteristics and can perform certain functions.\n",
    "for example-car is an object and can perform functions like start,stop,drive and brake.\n",
    "these are the functions or behaviours of a car and the characteristics or attributes are color of car,maximum speed,model,year etc."
   ]
  },
  {
   "cell_type": "markdown",
   "id": "dc5b445d-c7d0-4c3f-ba0d-70d41d9dca89",
   "metadata": {},
   "source": [
    "Qus2.Name the four pillars OOPs."
   ]
  },
  {
   "cell_type": "markdown",
   "id": "89adfe7c-9f49-40b0-82f1-72d431326435",
   "metadata": {},
   "source": [
    "solution2:\n",
    "the foue piilars of OOPs are:\n",
    "1.Inheritance\n",
    "2.Encapsulation\n",
    "3.Polymorphism\n",
    "4.Abstraction"
   ]
  },
  {
   "cell_type": "markdown",
   "id": "c1d18394-88d3-4074-9745-f7a142b288c1",
   "metadata": {},
   "source": [
    "Qus3.Explain why the __init__() function is used. give a suitable example.\n"
   ]
  },
  {
   "cell_type": "markdown",
   "id": "66e0ecac-12ed-4092-bc56-ae15ee290046",
   "metadata": {},
   "source": [
    "solution 3:\n",
    "the __init__() function is used to create as well as initialize an object's initial attributes by giving them their default value"
   ]
  },
  {
   "cell_type": "code",
   "execution_count": 3,
   "id": "f9e5f604-3484-42fd-bd79-1336296b824f",
   "metadata": {},
   "outputs": [
    {
     "name": "stdout",
     "output_type": "stream",
     "text": [
      "zaid\n",
      "23\n"
     ]
    }
   ],
   "source": [
    "class Person:\n",
    "    def __init__(self, name, age):\n",
    "        self.name = name\n",
    "        self.age = age\n",
    "\n",
    "p1 = Person(\"zaid\", 23)\n",
    "\n",
    "print(p1.name)\n",
    "print(p1.age)"
   ]
  },
  {
   "cell_type": "markdown",
   "id": "372a3ed0-5422-4bcc-8c0c-df0a4ca2c43f",
   "metadata": {},
   "source": [
    "Qus4. Why self is used in OOPs?\n"
   ]
  },
  {
   "cell_type": "markdown",
   "id": "dda3d562-80b7-41bd-ae74-9af4af40ea83",
   "metadata": {},
   "source": [
    "Solution 4:\n",
    "self represents the instance of the class. By using the “self”  we can access the attributes and methods of the class in python. It binds the attributes with the given arguments.\n",
    "every instance method which we define in our class has to compulsorily have atleast one argument of type self.\n",
    "the arguments self always points to the address of the current object."
   ]
  },
  {
   "cell_type": "markdown",
   "id": "c6aab6e9-c7ea-4763-b209-35c0586b9483",
   "metadata": {},
   "source": [
    "Qus5.What is inheritance?give an example for each type of inheritance."
   ]
  },
  {
   "cell_type": "markdown",
   "id": "d19f484e-4e92-4eec-986a-f32e7c61c9d1",
   "metadata": {},
   "source": [
    "Solution 5:\n",
    "Inheritance is a powerful feature in Object Oriented Programming.\n",
    "It refers to defining a new class with little or no modification to an existing class."
   ]
  },
  {
   "cell_type": "code",
   "execution_count": 4,
   "id": "aa764c44-da4a-4d14-9c06-a71220f622cb",
   "metadata": {},
   "outputs": [
    {
     "name": "stdout",
     "output_type": "stream",
     "text": [
      "This function is in parent class.\n",
      "This function is in child class.\n"
     ]
    }
   ],
   "source": [
    "#single inheritance\n",
    "class Parent:\n",
    "    def func1(self):\n",
    "        print(\"This function is in parent class.\")\n",
    " \n",
    " \n",
    "class Child(Parent):\n",
    "    def func2(self):\n",
    "        print(\"This function is in child class.\")\n",
    " \n",
    " \n",
    "# Driver's code\n",
    "object = Child()\n",
    "object.func1()\n",
    "object.func2()"
   ]
  },
  {
   "cell_type": "code",
   "execution_count": 5,
   "id": "c9d18434-7e79-4b72-92ff-1220be9623be",
   "metadata": {},
   "outputs": [
    {
     "name": "stdout",
     "output_type": "stream",
     "text": [
      "Father : RAM\n",
      "Mother : SITA\n"
     ]
    }
   ],
   "source": [
    "#Multiple inheritance\n",
    "class Mother:\n",
    "    mothername = \"\"\n",
    " \n",
    "    def mother(self):\n",
    "        print(self.mothername)\n",
    " \n",
    " \n",
    "class Father:\n",
    "    fathername = \"\"\n",
    " \n",
    "    def father(self):\n",
    "        print(self.fathername)\n",
    " \n",
    " \n",
    "class Son(Mother, Father):\n",
    "    def parents(self):\n",
    "        print(\"Father :\", self.fathername)\n",
    "        print(\"Mother :\", self.mothername)\n",
    " \n",
    " \n",
    "# Driver's code\n",
    "s1 = Son()\n",
    "s1.fathername = \"RAM\"\n",
    "s1.mothername = \"SITA\"\n",
    "s1.parents()"
   ]
  },
  {
   "cell_type": "code",
   "execution_count": 8,
   "id": "a62d436f-5c30-4b1d-9b9e-83c56d335c5a",
   "metadata": {},
   "outputs": [
    {
     "name": "stdout",
     "output_type": "stream",
     "text": [
      "zaid\n",
      "Grandfather name : zaid\n",
      "Father name : manzar\n",
      "Son name : sadik\n"
     ]
    }
   ],
   "source": [
    "#Multilevel inheritance\n",
    "class Grandfather:\n",
    " \n",
    "    def __init__(self, grandfathername):\n",
    "        self.grandfathername = grandfathername\n",
    " \n",
    " \n",
    "class Father(Grandfather):\n",
    "    def __init__(self, fathername, grandfathername):\n",
    "        self.fathername = fathername\n",
    "\n",
    "        Grandfather.__init__(self, grandfathername)\n",
    " \n",
    " \n",
    "class Son(Father):\n",
    "    def __init__(self, sonname, fathername, grandfathername):\n",
    "        self.sonname = sonname\n",
    "        Father.__init__(self, fathername, grandfathername)\n",
    " \n",
    "    def print_name(self):\n",
    "        print('Grandfather name :', self.grandfathername)\n",
    "        print(\"Father name :\", self.fathername)\n",
    "        print(\"Son name :\", self.sonname)\n",
    " \n",
    " \n",
    "s1 = Son('sadik', 'manzar', 'zaid')\n",
    "print(s1.grandfathername)\n",
    "s1.print_name()"
   ]
  },
  {
   "cell_type": "code",
   "execution_count": null,
   "id": "9c1414c1-b8b2-4d6b-ae7a-615185c9a43a",
   "metadata": {},
   "outputs": [],
   "source": [
    "#Hierarchical inheritance\n",
    "class Parent:\n",
    "    def func1(self):\n",
    "        print(\"This function is in parent class.\")\n",
    " \n",
    "# Derived class1\n",
    " \n",
    " \n",
    "class Child1(Parent):\n",
    "    def func2(self):\n",
    "        print(\"This function is in child 1.\")\n",
    " \n",
    "# Derivied class2\n",
    " \n",
    " \n",
    "class Child2(Parent):\n",
    "    def func3(self):\n",
    "        print(\"This function is in child 2.\")\n",
    " \n",
    " \n",
    "# Driver's code\n",
    "object1 = Child1()\n",
    "object2 = Child2()\n",
    "object1.func1()\n",
    "object1.func2()\n",
    "object2.func1()\n",
    "object2.func3()"
   ]
  }
 ],
 "metadata": {
  "kernelspec": {
   "display_name": "Python 3 (ipykernel)",
   "language": "python",
   "name": "python3"
  },
  "language_info": {
   "codemirror_mode": {
    "name": "ipython",
    "version": 3
   },
   "file_extension": ".py",
   "mimetype": "text/x-python",
   "name": "python",
   "nbconvert_exporter": "python",
   "pygments_lexer": "ipython3",
   "version": "3.10.8"
  }
 },
 "nbformat": 4,
 "nbformat_minor": 5
}
